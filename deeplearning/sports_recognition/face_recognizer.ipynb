{
 "cells": [
  {
   "cell_type": "markdown",
   "metadata": {},
   "source": [
    "# Import delle librerie"
   ]
  },
  {
   "cell_type": "code",
   "execution_count": null,
   "metadata": {},
   "outputs": [],
   "source": [
    "import face_recognition\n",
    "import cv2\n",
    "import os\n",
    "import csv\n",
    "import numpy as np\n",
    "import pafy\n",
    "from PIL import Image\n",
    "import glob\n",
    "import json\n",
    "from google import google\n",
    "import string\n",
    "import nltk\n",
    "from collections import Counter\n",
    "import matplotlib.pyplot as plt\n",
    "import matplotlib.image as mpimg"
   ]
  },
  {
   "cell_type": "markdown",
   "metadata": {},
   "source": [
    "# Download del video(se necessario)"
   ]
  },
  {
   "cell_type": "code",
   "execution_count": null,
   "metadata": {},
   "outputs": [],
   "source": [
    "# Open the input movie file\n",
    "\n",
    "url = 'https://www.youtube.com/watch?v=ej3ioOneTy8'\n",
    "vPafy = pafy.new(url)\n",
    "video_title = vPafy.title\n",
    "\n",
    "exists = os.path.isfile(video_title + \".mp4\")\n",
    "if exists:\n",
    "    video = video_title + \".mp4\"\n",
    "else:\n",
    "    play = vPafy.getbest()\n",
    "    video = play.download()"
   ]
  },
  {
   "cell_type": "markdown",
   "metadata": {},
   "source": [
    "# Import dei face embedding e dei metadati"
   ]
  },
  {
   "cell_type": "code",
   "execution_count": null,
   "metadata": {},
   "outputs": [],
   "source": [
    "import pandas as pd\n",
    "known_faces = pd.read_csv('athletes_embedding.csv', sep=',',header=None).values\n",
    "map = pd.read_csv('athletes_metadata.csv', sep=',',header=None).values"
   ]
  },
  {
   "cell_type": "markdown",
   "metadata": {},
   "source": [
    "# Processamento e riconoscimento di facce da frame del video"
   ]
  },
  {
   "cell_type": "code",
   "execution_count": null,
   "metadata": {},
   "outputs": [],
   "source": [
    "face_locations = []\n",
    "face_encodings = []\n",
    "frame_number = 0\n",
    "face_names = []\n",
    "\n",
    "input_movie = cv2.VideoCapture(video)\n",
    "length = int(input_movie.get(cv2.CAP_PROP_FRAME_COUNT))\n",
    "\n",
    "print(\"Inizio processamento\")\n",
    "print(\"L'intero video contiene \" + str(length) + \" frame.\")\n",
    "\n",
    "while True:\n",
    "    \n",
    "    print(\"Stiamo analizzando il frame numero \" + str(frame_number))\n",
    "    # Grab a single frame of video\n",
    "    input_movie.set(1, frame_number)\n",
    "    ret, frame = input_movie.read()\n",
    "    frame_number += 20\n",
    "\n",
    "    # Quit when the input video file ends\n",
    "    if not ret:\n",
    "        break\n",
    "\n",
    "    # Find all the faces and face encodings in the current frame of video\n",
    "    face_locations = face_recognition.face_locations(frame)\n",
    "    face_encodings = face_recognition.face_encodings(frame, face_locations)\n",
    "\n",
    "\n",
    "    for face_encoding in face_encodings:\n",
    "        # See if the face is a match for the known face(s)\n",
    "        match = face_recognition.compare_faces(known_faces, face_encoding, tolerance=0.50)\n",
    "        distance = face_recognition.face_distance(known_faces, face_encoding)\n",
    "        # name = None\n",
    "        temp_distance = 100\n",
    "        if True in match:\n",
    "            for value, count in zip(match, range(len(match))):\n",
    "                if value == True:\n",
    "                    if distance[count] < temp_distance:\n",
    "                        temp_distance = distance[count]\n",
    "                        name = map[count]\n",
    "            face_names.append(name[1])\n",
    "            print(\"è stata riconosciuta la faccia di \" + name[1])\n",
    "\n",
    "# All done!\n",
    "input_movie.release()\n",
    "cv2.destroyAllWindows()\n",
    "print(\"Fine\")\n",
    "print (face_names)"
   ]
  },
  {
   "cell_type": "markdown",
   "metadata": {},
   "source": [
    "# Debug per singolo frame"
   ]
  },
  {
   "cell_type": "code",
   "execution_count": null,
   "metadata": {
    "scrolled": true
   },
   "outputs": [],
   "source": [
    "frame_number_for_debug = 2360\n",
    "\n",
    "input_movie = cv2.VideoCapture(video)\n",
    "input_movie.set(1, frame_number_for_debug)\n",
    "ret,frame = input_movie.read()\n",
    "\n",
    "print(\"Frame estratto dal video:\")\n",
    "imgplot = plt.imshow(frame)\n",
    "plt.show()\n",
    "    \n",
    "face_locations = face_recognition.face_locations(frame)\n",
    "face_encodings = face_recognition.face_encodings(frame, face_locations)\n",
    "    \n",
    "for face_encoding, (top, right, bottom, left) in zip(face_encodings, face_locations):\n",
    "        # See if the face is a match for the known face(s)\n",
    "        match = face_recognition.compare_faces(known_faces, face_encoding, tolerance=0.50)\n",
    "        distance = face_recognition.face_distance(known_faces, face_encoding)\n",
    "        \n",
    "        crop_img = frame[top:bottom, left:right]\n",
    "        imgplot = plt.imshow(crop_img)\n",
    "        plt.show()\n",
    "        # name = None\n",
    "        if True in match:\n",
    "            for value, count in zip(match, range(len(match))):\n",
    "                if value == True:\n",
    "                    print(\"La distanza rispetto all immagine con indice \" + str(count) + \" è: \" + str(distance[count]))\n",
    "                    name = map[count]\n",
    "                    print(\"è stata riconosciuta la faccia di \" + name[1])"
   ]
  },
  {
   "cell_type": "markdown",
   "metadata": {},
   "source": [
    "# Riduzione e trasformazione in json dell'output"
   ]
  },
  {
   "cell_type": "code",
   "execution_count": null,
   "metadata": {},
   "outputs": [],
   "source": [
    "c = Counter(face_names)\n",
    "face_names = [x[0] for x in c.items() if x[1] >= 2]"
   ]
  },
  {
   "cell_type": "code",
   "execution_count": null,
   "metadata": {},
   "outputs": [],
   "source": [
    "json.dumps(face_names)"
   ]
  },
  {
   "cell_type": "markdown",
   "metadata": {},
   "source": [
    "# Interrogare PredictionIO"
   ]
  },
  {
   "cell_type": "code",
   "execution_count": null,
   "metadata": {},
   "outputs": [],
   "source": [
    "#{ \"items\": [\"tt0133240\", \"tt0153340\"], \n",
    "#   \"num\": 4,\n",
    "#   \"categories\" : [\"Meg Ryan\"]}"
   ]
  },
  {
   "cell_type": "markdown",
   "metadata": {},
   "source": [
    "L'engine di predictionIO ascolta sulla porta 8000. Per conoscere l'ip dell'engine nella rete bridge create, digitare: <br>\n",
    "    * $> docker inspect --format '{{ .NetworkSettings.IPAddress }}' <name or id container>"
   ]
  },
  {
   "cell_type": "markdown",
   "metadata": {},
   "source": [
    "# Esempio di default"
   ]
  },
  {
   "cell_type": "code",
   "execution_count": null,
   "metadata": {},
   "outputs": [],
   "source": [
    "import predictionio\n",
    "#modificare l'ip del server di PredictionIO (guarda il readme in creazione rete)\n",
    "engine_client = predictionio.EngineClient(url=\"http://<IP_Engine>:8000\")\n",
    "print(engine_client.send_query({\"items\": [\"EBJWSum8IYQ\", \"rmjtP94lUTM\"], # film simili a questo. E' l'id del video\n",
    "                                \"num\": 10, # quanti film voglio che mi raccomandano\n",
    "                                \"tags\" : [\"neymar\", \"football\"]})) # filtro sugli attori\n",
    "\n",
    "# Posso mettere anche vari id. Qui ne ho messi due per avere più risultati. Li mette in or.\n",
    "# Per quanto riguarda l'id di un video, lo si può prendere da:\n",
    "# https://www.youtube.com/watch?v=<id_video>, per esempio https://www.youtube.com/watch?v=rmjtP94lUTM"
   ]
  },
  {
   "cell_type": "markdown",
   "metadata": {},
   "source": [
    "# Esempio con il risultato restituito dal face recognizer"
   ]
  },
  {
   "cell_type": "code",
   "execution_count": null,
   "metadata": {},
   "outputs": [],
   "source": [
    "import predictionio\n",
    "#modificare l'ip del server di PredictionIO (guarda il readme in creazione rete)\n",
    "engine_client = predictionio.EngineClient(url=\"http://<IP_Engine>:8000\")\n",
    "print(engine_client.send_query({\"items\": [id], # film simili a questo. E' l'id di imdb\n",
    "                                \"num\": 4, # quanti film voglio che mi raccomandano\n",
    "                                \"tags\" : final_list})) # filtro sugli attori"
   ]
  }
 ],
 "metadata": {
  "kernelspec": {
   "display_name": "Python 3",
   "language": "python",
   "name": "python3"
  },
  "language_info": {
   "codemirror_mode": {
    "name": "ipython",
    "version": 3
   },
   "file_extension": ".py",
   "mimetype": "text/x-python",
   "name": "python",
   "nbconvert_exporter": "python",
   "pygments_lexer": "ipython3",
   "version": "3.6.7"
  }
 },
 "nbformat": 4,
 "nbformat_minor": 2
}
