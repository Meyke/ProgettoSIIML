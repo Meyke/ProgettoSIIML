{
 "cells": [
  {
   "cell_type": "code",
   "execution_count": null,
   "metadata": {},
   "outputs": [],
   "source": [
    "import face_recognition\n",
    "import cv2\n",
    "import os\n",
    "import csv\n",
    "import numpy as np\n",
    "import pafy\n",
    "from PIL import Image\n",
    "import glob\n",
    "import json\n",
    "from google import google\n",
    "import string\n",
    "import nltk"
   ]
  },
  {
   "cell_type": "code",
   "execution_count": 38,
   "metadata": {},
   "outputs": [
    {
     "name": "stdout",
     "output_type": "stream",
     "text": [
      "  17,001,894 Bytes [100.00%] received. Rate: [1698 KB/s].  ETA: [0 secs]    \r"
     ]
    }
   ],
   "source": [
    "# Open the input movie file\n",
    "\n",
    "url = 'https://www.youtube.com/watch?v=6ZfuNTqbHE8&t=64s'\n",
    "vPafy = pafy.new(url)\n",
    "play = vPafy.getbest()\n",
    "video = play.download()\n",
    "\n",
    "input_movie = cv2.VideoCapture(video)\n",
    "length = int(input_movie.get(cv2.CAP_PROP_FRAME_COUNT))"
   ]
  },
  {
   "cell_type": "code",
   "execution_count": 39,
   "metadata": {},
   "outputs": [
    {
     "name": "stderr",
     "output_type": "stream",
     "text": [
      "[nltk_data] Downloading package punkt to /home/daniele/nltk_data...\n",
      "[nltk_data]   Package punkt is already up-to-date!\n"
     ]
    },
    {
     "name": "stdout",
     "output_type": "stream",
     "text": [
      "tokenizzazione:\n",
      "['marvel', 'studios', 'avengers', 'infinity', 'war', 'official', 'trailer']\n",
      "stopping\n",
      "['marvel', 'studios', 'avengers', 'infinity', 'war']\n",
      "stringa per la ricerca:\n",
      "marvel studios avengers infinity war \n",
      "Risultato della ricerca:\n",
      "https://www.imdb.com/title/tt4154756/\n",
      "Id del film:\n",
      "tt4154756\n"
     ]
    }
   ],
   "source": [
    "nltk.download('punkt')\n",
    "\n",
    "video_title = vPafy.title\n",
    "video_title = video_title.lower()\n",
    "video_title = video_title.translate(str.maketrans('', '', string.punctuation))\n",
    "\n",
    "list = [\"official\", \"trailer\", \"teaser\",\"italiano\", \"movie\", \"hd\"]\n",
    "\n",
    "stop_words = set(list)\n",
    "\n",
    "word_tokens = nltk.word_tokenize(video_title) \n",
    "\n",
    "print(\"tokenizzazione:\")\n",
    "print(word_tokens)\n",
    "  \n",
    "filtered_sentence = [] \n",
    "  \n",
    "for w in word_tokens: \n",
    "    if w not in stop_words: \n",
    "        filtered_sentence.append(w) \n",
    "\n",
    "print(\"stopping\")\n",
    "print(filtered_sentence)\n",
    "\n",
    "stopped_string = ''\n",
    "for w in filtered_sentence:\n",
    "    stopped_string = stopped_string + w + \" \"\n",
    "\n",
    "print(\"stringa per la ricerca:\")\n",
    "print(stopped_string)\n",
    "\n",
    "search_results = google.search(stopped_string + \"imdb\")\n",
    "link = search_results[0].link\n",
    "\n",
    "print(\"Risultato della ricerca:\")\n",
    "print(link)\n",
    "\n",
    "id = link[link.find(\"title/\")+6:len(link)-1]\n",
    "print(\"Id del film:\")\n",
    "print(id)"
   ]
  },
  {
   "cell_type": "code",
   "execution_count": 40,
   "metadata": {},
   "outputs": [],
   "source": [
    "import pandas as pd\n",
    "known_faces = pd.read_csv('file.csv', sep=',',header=None).values"
   ]
  },
  {
   "cell_type": "code",
   "execution_count": 41,
   "metadata": {},
   "outputs": [],
   "source": [
    "map = pd.read_csv('dict_file.csv', sep=',',header=None).values"
   ]
  },
  {
   "cell_type": "code",
   "execution_count": 42,
   "metadata": {},
   "outputs": [],
   "source": [
    "face_locations = []\n",
    "face_encodings = []\n",
    "frame_number = 0\n",
    "\n",
    "current_path = os.getcwd()\n",
    "counter = 0\n",
    "face_names = []"
   ]
  },
  {
   "cell_type": "code",
   "execution_count": 43,
   "metadata": {},
   "outputs": [
    {
     "name": "stdout",
     "output_type": "stream",
     "text": [
      "Inizio processamento\n",
      "Fine\n"
     ]
    }
   ],
   "source": [
    "print(\"Inizio processamento\")\n",
    "while True:\n",
    "    \n",
    "    # Grab a single frame of video\n",
    "    input_movie.set(1, frame_number)\n",
    "    ret, frame = input_movie.read()\n",
    "    frame_number += 20\n",
    "\n",
    "    # Quit when the input video file ends\n",
    "    if not ret:\n",
    "        print(\"Fine\")\n",
    "        break\n",
    "\n",
    "    # Find all the faces and face encodings in the current frame of video\n",
    "    face_locations = face_recognition.face_locations(frame)\n",
    "    face_encodings = face_recognition.face_encodings(frame, face_locations)\n",
    "\n",
    "\n",
    "    for face_encoding in face_encodings:\n",
    "        # See if the face is a match for the known face(s)\n",
    "        match = face_recognition.compare_faces(known_faces, face_encoding, tolerance=0.50)\n",
    "        # name = None\n",
    "        if True in match:\n",
    "            index = match.index(True)\n",
    "            name = map[index]\n",
    "            face_names.append(name[1])\n",
    "        # If you had more than 2 faces, you could make this logic a lot prettier\n",
    "        # but I kept it simple for the demo"
   ]
  },
  {
   "cell_type": "code",
   "execution_count": 44,
   "metadata": {},
   "outputs": [
    {
     "name": "stdout",
     "output_type": "stream",
     "text": [
      "['katherine_waterson', 'mark_ruffalo', 'mark_ruffalo', 'scarlett_johansson', 'scarlett_johansson', 'chris_pratt', 'tom_holland', 'robert_downeyjr', 'scarlett_johansson', 'benedict_cumberbatch', 'benedict_cumberbatch']\n"
     ]
    }
   ],
   "source": [
    "# All done!\n",
    "input_movie.release()\n",
    "cv2.destroyAllWindows()\n",
    "# create_csv.CreateCsv(current_path + \"/face_database/\")\n",
    "print (face_names)"
   ]
  },
  {
   "cell_type": "code",
   "execution_count": 53,
   "metadata": {},
   "outputs": [
    {
     "ename": "TypeError",
     "evalue": "'list' object is not callable",
     "output_type": "error",
     "traceback": [
      "\u001b[0;31m---------------------------------------------------------------------------\u001b[0m",
      "\u001b[0;31mTypeError\u001b[0m                                 Traceback (most recent call last)",
      "\u001b[0;32m<ipython-input-53-aaae4af96e60>\u001b[0m in \u001b[0;36m<module>\u001b[0;34m\u001b[0m\n\u001b[0;32m----> 1\u001b[0;31m \u001b[0mfaces_names\u001b[0m \u001b[0;34m=\u001b[0m \u001b[0mlist\u001b[0m\u001b[0;34m(\u001b[0m\u001b[0mface_names\u001b[0m\u001b[0;34m)\u001b[0m\u001b[0;34m\u001b[0m\u001b[0;34m\u001b[0m\u001b[0m\n\u001b[0m",
      "\u001b[0;31mTypeError\u001b[0m: 'list' object is not callable"
     ]
    }
   ],
   "source": [
    "face_names = set(face_names)"
   ]
  },
  {
   "cell_type": "code",
   "execution_count": 50,
   "metadata": {},
   "outputs": [],
   "source": [
    "final_list = []\n",
    "for face in face_names:\n",
    "    name = face[0:face.find(\"_\")]\n",
    "    surname = face[face.find(\"_\")+1:len(face)]\n",
    "    final_list.append(name.capitalize() + \" \" + surname.capitalize())"
   ]
  },
  {
   "cell_type": "code",
   "execution_count": 51,
   "metadata": {},
   "outputs": [
    {
     "data": {
      "text/plain": [
       "'[\"Robert Downeyjr\", \"Tom Holland\", \"Scarlett Johansson\", \"Chris Pratt\", \"Katherine Waterson\", \"Benedict Cumberbatch\", \"Mark Ruffalo\"]'"
      ]
     },
     "execution_count": 51,
     "metadata": {},
     "output_type": "execute_result"
    }
   ],
   "source": [
    "json.dumps(final_list)"
   ]
  },
  {
   "cell_type": "markdown",
   "metadata": {},
   "source": [
    "# Interrogare PredictionIO"
   ]
  },
  {
   "cell_type": "code",
   "execution_count": null,
   "metadata": {},
   "outputs": [],
   "source": [
    "#{ \"items\": [\"tt0133240\", \"tt0153340\"], \n",
    "#   \"num\": 4,\n",
    "#   \"categories\" : [\"Meg Ryan\"]}"
   ]
  },
  {
   "cell_type": "markdown",
   "metadata": {},
   "source": [
    "L'engine di predictionIO ascolta sulla porta 8000. Per conoscere l'ip dell'engine nella rete bridge create, digitare: <br>\n",
    "    * $> docker inspect --format '{{ .NetworkSettings.IPAddress }}' <name or id container>"
   ]
  },
  {
   "cell_type": "code",
   "execution_count": null,
   "metadata": {},
   "outputs": [],
   "source": [
    "import predictionio\n",
    "#modificare l'ip del server di PredictionIO (guarda il readme in creazione rete)\n",
    "engine_client = predictionio.EngineClient(url=\"http://<IP_Engine>:8000\")\n",
    "print(engine_client.send_query({\"items\": [\"tt0133240\"], # film simili a questo. E' l'id di imdb\n",
    "                                \"num\": 4, # quanti film voglio che mi raccomandano\n",
    "                                \"categories\" : [\"Meg Ryan\"]})) # filtro sugli attori"
   ]
  }
 ],
 "metadata": {
  "kernelspec": {
   "display_name": "Python 3",
   "language": "python",
   "name": "python3"
  },
  "language_info": {
   "codemirror_mode": {
    "name": "ipython",
    "version": 3
   },
   "file_extension": ".py",
   "mimetype": "text/x-python",
   "name": "python",
   "nbconvert_exporter": "python",
   "pygments_lexer": "ipython3",
   "version": "3.6.7"
  }
 },
 "nbformat": 4,
 "nbformat_minor": 2
}
