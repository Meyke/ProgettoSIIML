{
 "cells": [
  {
   "cell_type": "code",
   "execution_count": 10,
   "metadata": {},
   "outputs": [],
   "source": [
    "import face_recognition\n",
    "import cv2\n",
    "import os\n",
    "import csv\n",
    "import numpy as np\n",
    "import pafy\n",
    "from PIL import Image\n",
    "import glob\n",
    "import json"
   ]
  },
  {
   "cell_type": "code",
   "execution_count": 11,
   "metadata": {},
   "outputs": [
    {
     "name": "stdout",
     "output_type": "stream",
     "text": [
      "  7,485,992 Bytes [100.00%] received. Rate: [2533 KB/s].  ETA: [0 secs]    \r"
     ]
    }
   ],
   "source": [
    "# Open the input movie file\n",
    "\n",
    "url = 'https://www.youtube.com/watch?v=l3NjiaBgVas'\n",
    "vPafy = pafy.new(url)\n",
    "play = vPafy.getbest()\n",
    "video = play.download()\n",
    "\n",
    "input_movie = cv2.VideoCapture(video)\n",
    "length = int(input_movie.get(cv2.CAP_PROP_FRAME_COUNT))"
   ]
  },
  {
   "cell_type": "code",
   "execution_count": 12,
   "metadata": {},
   "outputs": [],
   "source": [
    "import pandas as pd\n",
    "known_faces = pd.read_csv('file.csv', sep=',',header=None).values"
   ]
  },
  {
   "cell_type": "code",
   "execution_count": 13,
   "metadata": {},
   "outputs": [],
   "source": [
    "map = pd.read_csv('dict_file.csv', sep=',',header=None).values"
   ]
  },
  {
   "cell_type": "code",
   "execution_count": 14,
   "metadata": {},
   "outputs": [],
   "source": [
    "face_locations = []\n",
    "face_encodings = []\n",
    "frame_number = 0\n",
    "\n",
    "current_path = os.getcwd()\n",
    "counter = 0\n",
    "face_names = []"
   ]
  },
  {
   "cell_type": "code",
   "execution_count": 15,
   "metadata": {},
   "outputs": [
    {
     "name": "stdout",
     "output_type": "stream",
     "text": [
      "Inizio processamento\n",
      "Fine\n"
     ]
    }
   ],
   "source": [
    "print(\"Inizio processamento\")\n",
    "while True:\n",
    "    \n",
    "    # Grab a single frame of video\n",
    "    input_movie.set(1, frame_number)\n",
    "    ret, frame = input_movie.read()\n",
    "    frame_number += 20\n",
    "\n",
    "    # Quit when the input video file ends\n",
    "    if not ret:\n",
    "        print(\"Fine\")\n",
    "        break\n",
    "\n",
    "    # Find all the faces and face encodings in the current frame of video\n",
    "    face_locations = face_recognition.face_locations(frame)\n",
    "    face_encodings = face_recognition.face_encodings(frame, face_locations)\n",
    "\n",
    "\n",
    "    for face_encoding in face_encodings:\n",
    "        # See if the face is a match for the known face(s)\n",
    "        match = face_recognition.compare_faces(known_faces, face_encoding, tolerance=0.50)\n",
    "        # name = None\n",
    "        if True in match:\n",
    "            index = match.index(True)\n",
    "            name = map[index]\n",
    "            face_names.append(name[1])\n",
    "        # If you had more than 2 faces, you could make this logic a lot prettier\n",
    "        # but I kept it simple for the demo"
   ]
  },
  {
   "cell_type": "code",
   "execution_count": 16,
   "metadata": {},
   "outputs": [
    {
     "name": "stdout",
     "output_type": "stream",
     "text": [
      "['scarlett_johansson', 'scarlett_johansson', 'scarlett_johansson', 'chris_evans', 'chris_evans', 'chris_evans']\n"
     ]
    }
   ],
   "source": [
    "# All done!\n",
    "input_movie.release()\n",
    "cv2.destroyAllWindows()\n",
    "# create_csv.CreateCsv(current_path + \"/face_database/\")\n",
    "print (face_names)"
   ]
  },
  {
   "cell_type": "code",
   "execution_count": 17,
   "metadata": {},
   "outputs": [
    {
     "data": {
      "text/plain": [
       "'[\"scarlett_johansson\", \"scarlett_johansson\", \"scarlett_johansson\", \"chris_evans\", \"chris_evans\", \"chris_evans\"]'"
      ]
     },
     "execution_count": 17,
     "metadata": {},
     "output_type": "execute_result"
    }
   ],
   "source": [
    "json.dumps(face_names)"
   ]
  }
 ],
 "metadata": {
  "kernelspec": {
   "display_name": "Python 3",
   "language": "python",
   "name": "python3"
  },
  "language_info": {
   "codemirror_mode": {
    "name": "ipython",
    "version": 3
   },
   "file_extension": ".py",
   "mimetype": "text/x-python",
   "name": "python",
   "nbconvert_exporter": "python",
   "pygments_lexer": "ipython3",
   "version": "3.6.7"
  }
 },
 "nbformat": 4,
 "nbformat_minor": 2
}
