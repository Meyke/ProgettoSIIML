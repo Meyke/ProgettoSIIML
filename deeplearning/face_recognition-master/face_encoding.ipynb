{
 "cells": [
  {
   "cell_type": "code",
   "execution_count": null,
   "metadata": {},
   "outputs": [],
   "source": [
    "import os\n",
    "import face_recognition\n",
    "import re\n",
    "known_faces = []\n",
    "count = 0\n",
    "map = {}\n",
    "face_locations = []\n",
    "\n",
    "for dirname, dirnames, filenames in os.walk(\"copy5\"):\n",
    "    for subdirname in dirnames:\n",
    "        subject_path = os.path.join(dirname, subdirname)\n",
    "        for filename in os.listdir(subject_path):\n",
    "            lmm_image = face_recognition.load_image_file(subject_path + \"/\" + filename)\n",
    "            lmm_face_encoding = face_recognition.face_encodings(lmm_image)[0]\n",
    "            known_faces.append(lmm_face_encoding)\n",
    "            x = re.findall(\"[0-9]\",filename)\n",
    "            map[count] =  filename[filename.find(\"/\") + 1:filename.find(x[0])]\n",
    "            count = count + 1"
   ]
  },
  {
   "cell_type": "code",
   "execution_count": null,
   "metadata": {},
   "outputs": [],
   "source": [
    "print(map)"
   ]
  },
  {
   "cell_type": "code",
   "execution_count": null,
   "metadata": {},
   "outputs": [],
   "source": [
    "import pandas as pd \n",
    "pd.DataFrame(known_faces).to_csv(\"embedding.csv\", header=None, index=None)"
   ]
  },
  {
   "cell_type": "code",
   "execution_count": null,
   "metadata": {},
   "outputs": [],
   "source": [
    "import pandas as pd \n",
    "(pd.DataFrame.from_dict(data=map, orient='index')\n",
    "   .to_csv('metadata.csv', header=False))"
   ]
  }
 ],
 "metadata": {
  "kernelspec": {
   "display_name": "Python 3",
   "language": "python",
   "name": "python3"
  },
  "language_info": {
   "codemirror_mode": {
    "name": "ipython",
    "version": 3
   },
   "file_extension": ".py",
   "mimetype": "text/x-python",
   "name": "python",
   "nbconvert_exporter": "python",
   "pygments_lexer": "ipython3",
   "version": "3.6.7"
  }
 },
 "nbformat": 4,
 "nbformat_minor": 2
}
